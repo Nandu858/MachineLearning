{
  "nbformat": 4,
  "nbformat_minor": 0,
  "metadata": {
    "colab": {
      "provenance": [],
      "authorship_tag": "ABX9TyO8nBS9HobrLA6RsGbRsn6D",
      "include_colab_link": true
    },
    "kernelspec": {
      "name": "python3",
      "display_name": "Python 3"
    },
    "language_info": {
      "name": "python"
    }
  },
  "cells": [
    {
      "cell_type": "markdown",
      "metadata": {
        "id": "view-in-github",
        "colab_type": "text"
      },
      "source": [
        "<a href=\"https://colab.research.google.com/github/nandini-n-123/MachineLearning/blob/main/Fake_news_detection_model.ipynb\" target=\"_parent\"><img src=\"https://colab.research.google.com/assets/colab-badge.svg\" alt=\"Open In Colab\"/></a>"
      ]
    },
    {
      "cell_type": "code",
      "execution_count": null,
      "metadata": {
        "colab": {
          "base_uri": "https://localhost:8080/"
        },
        "id": "bbBVHp_enOGj",
        "outputId": "5d655b5a-c703-47cb-c7c7-b42a74a3b6b9"
      },
      "outputs": [
        {
          "output_type": "stream",
          "name": "stderr",
          "text": [
            "[nltk_data] Downloading package punkt to /root/nltk_data...\n",
            "[nltk_data]   Package punkt is already up-to-date!\n",
            "[nltk_data] Downloading package stopwords to /root/nltk_data...\n",
            "[nltk_data]   Package stopwords is already up-to-date!\n"
          ]
        },
        {
          "output_type": "stream",
          "name": "stdout",
          "text": [
            "                                               title  \\\n",
            "0       Senate confirms top EPA enforcement official   \n",
            "1   Buy American? Even Trump’s MAGA Gear Is Sold ...   \n",
            "2   Trump Laughs After Philippine Leader Calls Jo...   \n",
            "3  Chicago mayor unveils 'gimmick-free' budget fo...   \n",
            "4  Aide tries to refocus tax debate after Trump's...   \n",
            "\n",
            "                                                text       subject  \\\n",
            "0  WASHINGTON (Reuters) - The Senate on Thursday ...  politicsNews   \n",
            "1  When Donald Trump kicked off  Made in America ...          News   \n",
            "2  Donald Trump probably wishes the United States...          News   \n",
            "3  CHICAGO (Reuters) - Chicago Mayor Rahm Emanuel...  politicsNews   \n",
            "4  WASHINGTON (Reuters) - President Donald Trump’...  politicsNews   \n",
            "\n",
            "                date Label  \n",
            "0  December 7, 2017   True  \n",
            "1      July 24, 2017  Fake  \n",
            "2  November 13, 2017  Fake  \n",
            "3  October 18, 2017   True  \n",
            "4  December 8, 2017   True  \n",
            "accuracy 0.8295652173913044\n",
            "Classification_report               precision    recall  f1-score   support\n",
            "\n",
            "        Fake       1.00      0.40      0.57       162\n",
            "        True       0.81      1.00      0.89       413\n",
            "\n",
            "    accuracy                           0.83       575\n",
            "   macro avg       0.90      0.70      0.73       575\n",
            "weighted avg       0.86      0.83      0.80       575\n",
            "\n"
          ]
        }
      ],
      "source": [
        "import pandas as pd\n",
        "import nltk\n",
        "nltk.download('punkt')\n",
        "nltk.download('stopwords')\n",
        "\n",
        "from sklearn.feature_extraction.text import TfidfVectorizer\n",
        "\n",
        "from nltk.corpus import stopwords\n",
        "from nltk.tokenize import word_tokenize\n",
        "import re\n",
        "\n",
        "# Load the CSV file\n",
        "real_news = pd.read_csv(\"/content/True.csv\", on_bad_lines='skip', engine='python') # Load first 100 rows for testing\n",
        "real_news['Label']=\"True\"\n",
        "# Display the first few rows to check the data\n",
        "#print(real_news.head())\n",
        "\n",
        "#reading the fake news\n",
        "fake_news = pd.read_csv(\"/content/Fake.csv\", on_bad_lines='skip', engine='python')\n",
        "fake_news['Label']=\"Fake\"\n",
        "\n",
        "#print(fake_news.head())\n",
        "\n",
        "#combine real news and fake news into same dataset\n",
        "news_data=pd.concat([real_news,fake_news],ignore_index=True)\n",
        "\n",
        "news_data=news_data.sample(frac=1,random_state=43).reset_index(drop=True)\n",
        "#sample return the random sample from the dataframe\n",
        "#by setting frac=1 ,returns all the rows but in random order\n",
        "#reset_index  ,when we are shuffling the rows ,the indices also gets shuffled ,to reset the index like 0,1,2.. reset index is used\n",
        "\n",
        "print(news_data.head())\n",
        "\n",
        "\n",
        "#preprocessing the text\n",
        "\n",
        "def preprocess_text(text):\n",
        "    text = re.sub(r'\\W', ' ', text)\n",
        "    text=text.lower()\n",
        "    tokens = word_tokenize(text)\n",
        "    filtered_tokens = [word for word in tokens if word not in stopwords.words('english')]\n",
        "    return ' '.join(filtered_tokens)\n",
        "\n",
        "\n",
        "news_data['cleaned_text']=news_data['text'].apply(preprocess_text)\n",
        "\n",
        "vectorizer= TfidfVectorizer()\n",
        "\n",
        "x=vectorizer.fit_transform(news_data['cleaned_text'])\n",
        "\n",
        "y=news_data['Label']\n",
        "\n",
        "\n",
        "from sklearn.model_selection import train_test_split\n",
        "from sklearn.naive_bayes import MultinomialNB\n",
        "from sklearn.metrics import accuracy_score , classification_report\n",
        "\n",
        "x_train,x_test,y_train,y_test=train_test_split(x,y,test_size=0.2,random_state=42)\n",
        "model=MultinomialNB()\n",
        "\n",
        "model.fit(x_train,y_train)\n",
        "\n",
        "Y_predict=model.predict(x_test)\n",
        "\n",
        "print(\"accuracy\",accuracy_score(y_test,Y_predict))\n",
        "print(\"Classification_report\",classification_report(y_test,Y_predict))\n",
        "\n",
        "\n",
        "\n",
        "\n",
        "\n",
        "\n",
        "\n",
        "\n",
        "\n",
        "\n"
      ]
    }
  ]
}